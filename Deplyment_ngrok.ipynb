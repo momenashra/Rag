{
  "cells": [
    {
      "cell_type": "code",
      "execution_count": 2,
      "metadata": {
        "colab": {
          "base_uri": "https://localhost:8080/"
        },
        "collapsed": true,
        "id": "gpWr51mD8VZV",
        "outputId": "447052ac-be2d-47b0-f457-8da5910ba9e1"
      },
      "outputs": [
        {
          "name": "stdout",
          "output_type": "stream",
          "text": [
            ">>> Cleaning up old version at /usr/local/lib/ollama\n",
            ">>> Installing ollama to /usr/local\n",
            ">>> Downloading Linux amd64 bundle\n",
            "######################################################################## 100.0%\n",
            ">>> Adding ollama user to video group...\n",
            ">>> Adding current user to ollama group...\n",
            ">>> Creating ollama systemd service...\n",
            "\u001b[1m\u001b[31mWARNING:\u001b[m systemd is not running\n",
            "\u001b[1m\u001b[31mWARNING:\u001b[m Unable to detect NVIDIA/AMD GPU. Install lspci or lshw to automatically detect and install GPU dependencies.\n",
            ">>> The Ollama API is now available at 127.0.0.1:11434.\n",
            ">>> Install complete. Run \"ollama\" from the command line.\n"
          ]
        }
      ],
      "source": [
        "!curl -fsSL https://ollama.com/install.sh | sh"
      ]
    },
    {
      "cell_type": "code",
      "execution_count": 50,
      "metadata": {
        "id": "aAS3JCvc-bi1"
      },
      "outputs": [],
      "source": [
        "model_id=\"qwen2.5:14b-instruct-q3_K_M\""
      ]
    },
    {
      "cell_type": "code",
      "execution_count": 53,
      "metadata": {
        "colab": {
          "base_uri": "https://localhost:8080/"
        },
        "id": "GkcUGFbn_Zsr",
        "outputId": "c0386ae5-a1e0-4ad3-86ad-82b5807f27d3"
      },
      "outputs": [
        {
          "name": "stdout",
          "output_type": "stream",
          "text": [
            "nohup: appending output to 'nohup.out'\n",
            "time=2025-04-20T16:45:37.419Z level=INFO source=images.go:465 msg=\"total unused blobs removed: 0\"\n",
            "time=2025-04-20T16:45:37.420Z level=INFO source=routes.go:1298 msg=\"Listening on [::]:8000 (version 0.6.5)\"\n",
            "time=2025-04-20T16:45:37.420Z level=INFO source=gpu.go:217 msg=\"looking for compatible GPUs\"\n",
            "time=2025-04-20T16:45:37.575Z level=INFO source=types.go:130 msg=\"inference compute\" id=GPU-e35b2ada-aa9c-7797-1541-930dd849c933 library=cuda variant=v12 compute=7.5 driver=12.4 name=\"Tesla T4\" total=\"14.7 GiB\" available=\"14.6 GiB\"\n",
            "2025/04/20 16:46:22 routes.go:1231: INFO server config env=\"map[CUDA_VISIBLE_DEVICES: GPU_DEVICE_ORDINAL: HIP_VISIBLE_DEVICES: HSA_OVERRIDE_GFX_VERSION: HTTPS_PROXY: HTTP_PROXY: NO_PROXY: OLLAMA_CONTEXT_LENGTH:2048 OLLAMA_DEBUG:false OLLAMA_FLASH_ATTENTION:false OLLAMA_GPU_OVERHEAD:0 OLLAMA_HOST:http://0.0.0.0:11434 OLLAMA_INTEL_GPU:false OLLAMA_KEEP_ALIVE:5m0s OLLAMA_KV_CACHE_TYPE: OLLAMA_LLM_LIBRARY: OLLAMA_LOAD_TIMEOUT:5m0s OLLAMA_MAX_LOADED_MODELS:0 OLLAMA_MAX_QUEUE:512 OLLAMA_MODELS:/root/.ollama/models OLLAMA_MULTIUSER_CACHE:false OLLAMA_NEW_ENGINE:false OLLAMA_NOHISTORY:false OLLAMA_NOPRUNE:false OLLAMA_NUM_PARALLEL:0 OLLAMA_ORIGINS:[http://localhost https://localhost http://localhost:* https://localhost:* http://127.0.0.1 https://127.0.0.1 http://127.0.0.1:* https://127.0.0.1:* http://0.0.0.0 https://0.0.0.0 http://0.0.0.0:* https://0.0.0.0:* app://* file://* tauri://* vscode-webview://* vscode-file://*] OLLAMA_SCHED_SPREAD:false ROCR_VISIBLE_DEVICES: http_proxy: https_proxy: no_proxy:]\"\n",
            "time=2025-04-20T16:46:22.366Z level=INFO source=images.go:458 msg=\"total blobs: 5\"\n",
            "time=2025-04-20T16:46:22.367Z level=INFO source=images.go:465 msg=\"total unused blobs removed: 0\"\n",
            "time=2025-04-20T16:46:22.367Z level=INFO source=routes.go:1298 msg=\"Listening on [::]:11434 (version 0.6.5)\"\n",
            "time=2025-04-20T16:46:22.367Z level=INFO source=gpu.go:217 msg=\"looking for compatible GPUs\"\n",
            "time=2025-04-20T16:46:22.492Z level=INFO source=types.go:130 msg=\"inference compute\" id=GPU-e35b2ada-aa9c-7797-1541-930dd849c933 library=cuda variant=v12 compute=7.5 driver=12.4 name=\"Tesla T4\" total=\"14.7 GiB\" available=\"14.6 GiB\"\n"
          ]
        }
      ],
      "source": [
        "!nohup bash -c 'OLLAMA_HOST=0.0.0.0:11434 OLLAMA_ORIGIN=* ollama serve' &\n",
        "!sleep 5 && tail nohup.out"
      ]
    },
    {
      "cell_type": "code",
      "execution_count": 54,
      "metadata": {
        "colab": {
          "base_uri": "https://localhost:8080/"
        },
        "id": "BJXFfZK1_zp0",
        "outputId": "51963b6e-795b-4238-8848-33153604fb41"
      },
      "outputs": [
        {
          "name": "stdout",
          "output_type": "stream",
          "text": [
            "\u001b[?2026h\u001b[?25l\u001b[1Gpulling manifest ⠋ \u001b[K\u001b[?25h\u001b[?2026l\u001b[?2026h\u001b[?25l\u001b[1Gpulling manifest ⠙ \u001b[K\u001b[?25h\u001b[?2026l\u001b[?2026h\u001b[?25l\u001b[1Gpulling manifest ⠹ \u001b[K\u001b[?25h\u001b[?2026l\u001b[?2026h\u001b[?25l\u001b[1Gpulling manifest ⠼ \u001b[K\u001b[?25h\u001b[?2026l\u001b[?2026h\u001b[?25l\u001b[1Gpulling manifest ⠼ \u001b[K\u001b[?25h\u001b[?2026l\u001b[?2026h\u001b[?25l\u001b[1Gpulling manifest ⠴ \u001b[K\u001b[?25h\u001b[?2026l\u001b[?2026h\u001b[?25l\u001b[1Gpulling manifest ⠧ \u001b[K\u001b[?25h\u001b[?2026l\u001b[?2026h\u001b[?25l\u001b[1Gpulling manifest ⠧ \u001b[K\u001b[?25h\u001b[?2026l\u001b[?2026h\u001b[?25l\u001b[1Gpulling manifest \u001b[K\n",
            "pulling ab276aaec8a7... 100% ▕▏ 7.3 GB                         \u001b[K\n",
            "pulling 66b9ea09bd5b... 100% ▕▏   68 B                         \u001b[K\n",
            "pulling eb4402837c78... 100% ▕▏ 1.5 KB                         \u001b[K\n",
            "pulling 832dd9e00a68... 100% ▕▏  11 KB                         \u001b[K\n",
            "pulling a6c03be428a3... 100% ▕▏  488 B                         \u001b[K\n",
            "verifying sha256 digest \u001b[K\n",
            "writing manifest \u001b[K\n",
            "success \u001b[K\u001b[?25h\u001b[?2026l\n"
          ]
        }
      ],
      "source": [
        "!ollama pull {model_id}"
      ]
    },
    {
      "cell_type": "code",
      "execution_count": 55,
      "metadata": {
        "colab": {
          "base_uri": "https://localhost:8080/"
        },
        "id": "oCQOzhIh_EGI",
        "outputId": "dac1fad7-7471-4902-925f-b02515280cd1"
      },
      "outputs": [
        {
          "name": "stdout",
          "output_type": "stream",
          "text": [
            "nohup: appending output to 'nohup.out'\n",
            "pulling 6a0746a1ec1a...  10% ▕█               ▏ 453 MB/4.7 GB  219 MB/s     19s\u001b[K\u001b[?25h\u001b[?2026l\u001b[?2026h\u001b[?25l\u001b[A\u001b[1Gpulling manifest \u001b[K\n",
            "pulling 6a0746a1ec1a...  10% ▕█               ▏ 455 MB/4.7 GB  219 MB/s     19s\u001b[K\u001b[?25h\u001b[?2026l\u001b[?2026h\u001b[?25l\u001b[A\u001b[1Gpulling manifest \u001b[K\n",
            "pulling 6a0746a1ec1a...  10% ▕█               ▏ 455 MB/4.7 GB  219 MB/s     19s\u001b[K\u001b[?25h\u001b[?2026l\u001b[?2026h\u001b[?25l\u001b[A\u001b[1Gpulling manifest \u001b[K\n",
            "pulling 6a0746a1ec1a...  10% ▕█               ▏ 456 MB/4.7 GB  219 MB/s     19s\u001b[K\u001b[?25h\u001b[?2026l\u001b[?2026h\u001b[?25l\u001b[A\u001b[1Gpulling manifest \u001b[K\n",
            "pulling 6a0746a1ec1a...  10% ▕█               ▏ 457 MB/4.7 GB  219 MB/s     19s\u001b[K\u001b[?25h\u001b[?2026l\u001b[?2026h\u001b[?25l\u001b[A\u001b[1Gpulling manifest \u001b[K\n",
            "pulling 6a0746a1ec1a...  10% ▕█               ▏ 459 MB/4.7 GB  219 MB/s     19s\u001b[K\u001b[?25h\u001b[?2026l\u001b[?2026h\u001b[?25l\u001b[A\u001b[1Gpulling manifest \u001b[K\n",
            "pulling 6a0746a1ec1a...  10% ▕█               ▏ 459 MB/4.7 GB  219 MB/s     19s\u001b[K\u001b[?25h\u001b[?2026l\u001b[?2026h\u001b[?25l\u001b[A\u001b[1Gpulling manifest \u001b[K\n",
            "pulling 6a0746a1ec1a...  10% ▕█               ▏ 459 MB/4.7 GB  219 MB/s     19s\u001b[K\u001b[?25h\u001b[?2026l\u001b[?2026h\u001b[?25l\u001b[A\u001b[1Gpulling manifest \u001b[K\n",
            "pulling 6a0746a1ec1a...  10% ▕█               ▏ 459 MB/4.7 GB  219 MB/s     19s\u001b[K\u001b[?25h\u001b[?2026l\u001b[?2026h\u001b[?25l\u001b[A\u001b[1Gpulling manifest \u001b[K\n",
            "pulling 6a0746a1ec1a...  10% ▕█               ▏ 459 MB/4.7 GB  153 MB/s     27s\u001b[K\u001b[?25h\u001b[?2026l"
          ]
        }
      ],
      "source": [
        "!nohup bash -c 'OLLAMA_HOST=0.0.0.0:11434 OLLAMA_ORIGIN=* ollama run llama3' &\n",
        "!sleep 5 && tail nohup.out"
      ]
    },
    {
      "cell_type": "code",
      "execution_count": 56,
      "metadata": {
        "colab": {
          "base_uri": "https://localhost:8080/"
        },
        "id": "FWglN4xY_TA2",
        "outputId": "165e344e-dd0a-4605-fcdb-4b0bfb143b53"
      },
      "outputs": [
        {
          "name": "stdout",
          "output_type": "stream",
          "text": [
            "{\"model\":\"qwen2.5:14b-instruct-q3_K_M\",\"created_at\":\"2025-04-20T16:48:07.029104856Z\",\"response\":\"The sky appears blue because of the way Earth's atmosphere interacts with sunlight. When sunlight enters the Earth's atmosphere, it encounters various gases and tiny particles suspended in the air. Sunlight consists of different colors, each color corresponding to a different wavelength. Blue light waves are shorter and scatter more easily than other colors when they strike the numerous molecules and small particles in the atmosphere.\\n\\nThis scattering process is known as Rayleigh scattering, named after the physicist Lord Rayleigh who described it. During Rayleigh scattering, blue light is scattered much more than other colors because its waves are smaller and can be scattered by tiny nitrogen and oxygen molecules that make up most of our atmosphere. While all colors of sunlight are present in the sky, we see blue predominately because blue light travels as shorter, smaller waves and is scattered more when it enters the Earth's atmosphere.\\n\\nAs a result, when you look up at the sky on a clear sunny day, you primarily perceive the scattered blue wavelengths, giving the sky its characteristic blue appearance.\",\"done\":true,\"done_reason\":\"stop\",\"context\":[151644,8948,198,2610,525,1207,16948,11,3465,553,54364,14817,13,1446,525,264,10950,17847,13,151645,198,151644,872,198,10234,374,279,12884,6303,30,151645,198,151644,77091,198,785,12884,7952,6303,1576,315,279,1616,9237,594,16566,83161,448,39020,13,3197,39020,28833,279,9237,594,16566,11,432,33906,5257,44512,323,13673,18730,21612,304,279,3720,13,8059,4145,17167,315,2155,7987,11,1817,1894,12159,311,264,2155,45306,13,8697,3100,16876,525,23327,323,44477,803,6707,1091,1008,7987,979,807,13169,279,12114,34615,323,2613,18730,304,279,16566,382,1986,71816,1882,374,3881,438,13255,62969,71816,11,6941,1283,279,82223,10214,13255,62969,879,7481,432,13,11954,13255,62969,71816,11,6303,3100,374,36967,1753,803,1091,1008,7987,1576,1181,16876,525,9155,323,646,387,36967,553,13673,46403,323,23552,34615,429,1281,705,1429,315,1039,16566,13,5976,678,7987,315,39020,525,3042,304,279,12884,11,582,1490,6303,33964,2652,1576,6303,3100,34192,438,23327,11,9155,16876,323,374,36967,803,979,432,28833,279,9237,594,16566,382,2121,264,1102,11,979,498,1401,705,518,279,12884,389,264,2797,39698,1899,11,498,15503,44393,279,36967,6303,92859,11,7086,279,12884,1181,28583,6303,11094,13],\"total_duration\":86038643948,\"load_duration\":72129309558,\"prompt_eval_count\":35,\"prompt_eval_duration\":990022859,\"eval_count\":204,\"eval_duration\":12916184030}"
          ]
        },
        {
          "name": "stderr",
          "output_type": "stream",
          "text": [
            "  % Total    % Received % Xferd  Average Speed   Time    Time     Time  Current\n",
            "                                 Dload  Upload   Total   Spent    Left  Speed\n",
            "\r  0     0    0     0    0     0      0      0 --:--:-- --:--:-- --:--:--     0\r100    99    0     0  100    99      0    493 --:--:-- --:--:-- --:--:--   492\r100    99    0     0  100    99      0     82  0:00:01  0:00:01 --:--:--    82\r100    99    0     0  100    99      0     44  0:00:02  0:00:02 --:--:--    44\r100    99    0     0  100    99      0     30  0:00:03  0:00:03 --:--:--    30\r100    99    0     0  100    99      0     23  0:00:04  0:00:04 --:--:--    23\r100    99    0     0  100    99      0     19  0:00:05  0:00:05 --:--:--     0\r100    99    0     0  100    99      0     15  0:00:06  0:00:06 --:--:--     0\r100    99    0     0  100    99      0     13  0:00:07  0:00:07 --:--:--     0\r100    99    0     0  100    99      0     12  0:00:08  0:00:08 --:--:--     0\r100    99    0     0  100    99      0     10  0:00:09  0:00:09 --:--:--     0\r100    99    0     0  100    99      0      9  0:00:11  0:00:10  0:00:01     0\r100    99    0     0  100    99      0      8  0:00:12  0:00:11  0:00:01     0\r100    99    0     0  100    99      0      8  0:00:12  0:00:12 --:--:--     0\r100    99    0     0  100    99      0      7  0:00:14  0:00:13  0:00:01     0\r100    99    0     0  100    99      0      6  0:00:16  0:00:14  0:00:02     0\r100    99    0     0  100    99      0      6  0:00:16  0:00:15  0:00:01     0\r100    99    0     0  100    99      0      6  0:00:16  0:00:16 --:--:--     0\r100    99    0     0  100    99      0      5  0:00:19  0:00:17  0:00:02     0\r100    99    0     0  100    99      0      5  0:00:19  0:00:18  0:00:01     0\r100    99    0     0  100    99      0      5  0:00:19  0:00:19 --:--:--     0\r100    99    0     0  100    99      0      4  0:00:24  0:00:20  0:00:04     0\r100    99    0     0  100    99      0      4  0:00:24  0:00:21  0:00:03     0\r100    99    0     0  100    99      0      4  0:00:24  0:00:22  0:00:02     0\r100    99    0     0  100    99      0      4  0:00:24  0:00:23  0:00:01     0\r100    99    0     0  100    99      0      4  0:00:24  0:00:24 --:--:--     0\r100    99    0     0  100    99      0      3  0:00:33  0:00:25  0:00:08     0\r100    99    0     0  100    99      0      3  0:00:33  0:00:26  0:00:07     0\r100    99    0     0  100    99      0      3  0:00:33  0:00:27  0:00:06     0\r100    99    0     0  100    99      0      3  0:00:33  0:00:28  0:00:05     0\r100    99    0     0  100    99      0      3  0:00:33  0:00:29  0:00:04     0\r100    99    0     0  100    99      0      3  0:00:33  0:00:30  0:00:03     0\r100    99    0     0  100    99      0      3  0:00:33  0:00:31  0:00:02     0\r100    99    0     0  100    99      0      3  0:00:33  0:00:32  0:00:01     0\r100    99    0     0  100    99      0      2  0:00:49  0:00:33  0:00:16     0\r100    99    0     0  100    99      0      2  0:00:49  0:00:34  0:00:15     0\r100    99    0     0  100    99      0      2  0:00:49  0:00:35  0:00:14     0\r100    99    0     0  100    99      0      2  0:00:49  0:00:36  0:00:13     0\r100    99    0     0  100    99      0      2  0:00:49  0:00:37  0:00:12     0\r100    99    0     0  100    99      0      2  0:00:49  0:00:38  0:00:11     0\r100    99    0     0  100    99      0      2  0:00:49  0:00:39  0:00:10     0\r100    99    0     0  100    99      0      2  0:00:49  0:00:40  0:00:09     0\r100    99    0     0  100    99      0      2  0:00:49  0:00:41  0:00:08     0\r100    99    0     0  100    99      0      2  0:00:49  0:00:42  0:00:07     0\r100    99    0     0  100    99      0      2  0:00:49  0:00:43  0:00:06     0\r100    99    0     0  100    99      0      2  0:00:49  0:00:44  0:00:05     0\r100    99    0     0  100    99      0      2  0:00:49  0:00:45  0:00:04     0\r100    99    0     0  100    99      0      2  0:00:49  0:00:46  0:00:03     0\r100    99    0     0  100    99      0      2  0:00:49  0:00:47  0:00:02     0\r100    99    0     0  100    99      0      2  0:00:49  0:00:48  0:00:01     0\r100    99    0     0  100    99      0      2  0:00:49  0:00:49 --:--:--     0\r100    99    0     0  100    99      0      1  0:01:39  0:00:50  0:00:49     0\r100    99    0     0  100    99      0      1  0:01:39  0:00:51  0:00:48     0\r100    99    0     0  100    99      0      1  0:01:39  0:00:52  0:00:47     0\r100    99    0     0  100    99      0      1  0:01:39  0:00:53  0:00:46     0\r100    99    0     0  100    99      0      1  0:01:39  0:00:54  0:00:45     0\r100    99    0     0  100    99      0      1  0:01:39  0:00:55  0:00:44     0\r100    99    0     0  100    99      0      1  0:01:39  0:00:56  0:00:43     0\r100    99    0     0  100    99      0      1  0:01:39  0:00:57  0:00:42     0\r100    99    0     0  100    99      0      1  0:01:39  0:00:58  0:00:41     0\r100    99    0     0  100    99      0      1  0:01:39  0:00:59  0:00:40     0\r100    99    0     0  100    99      0      1  0:01:39  0:01:00  0:00:39     0\r100    99    0     0  100    99      0      1  0:01:39  0:01:01  0:00:38     0\r100    99    0     0  100    99      0      1  0:01:39  0:01:02  0:00:37     0\r100    99    0     0  100    99      0      1  0:01:39  0:01:03  0:00:36     0\r100    99    0     0  100    99      0      1  0:01:39  0:01:04  0:00:35     0\r100    99    0     0  100    99      0      1  0:01:39  0:01:05  0:00:34     0\r100    99    0     0  100    99      0      1  0:01:39  0:01:06  0:00:33     0\r100    99    0     0  100    99      0      1  0:01:39  0:01:07  0:00:32     0\r100    99    0     0  100    99      0      1  0:01:39  0:01:08  0:00:31     0\r100    99    0     0  100    99      0      1  0:01:39  0:01:09  0:00:30     0\r100    99    0     0  100    99      0      1  0:01:39  0:01:10  0:00:29     0\r100    99    0     0  100    99      0      1  0:01:39  0:01:11  0:00:28     0\r100    99    0     0  100    99      0      1  0:01:39  0:01:12  0:00:27     0\r100    99    0     0  100    99      0      1  0:01:39  0:01:13  0:00:26     0\r100    99    0     0  100    99      0      1  0:01:39  0:01:14  0:00:25     0\r100    99    0     0  100    99      0      1  0:01:39  0:01:15  0:00:24     0\r100    99    0     0  100    99      0      1  0:01:39  0:01:16  0:00:23     0\r100    99    0     0  100    99      0      1  0:01:39  0:01:17  0:00:22     0\r100    99    0     0  100    99      0      1  0:01:39  0:01:18  0:00:21     0\r100    99    0     0  100    99      0      1  0:01:39  0:01:19  0:00:20     0\r100    99    0     0  100    99      0      1  0:01:39  0:01:20  0:00:19     0\r100    99    0     0  100    99      0      1  0:01:39  0:01:21  0:00:18     0\r100    99    0     0  100    99      0      1  0:01:39  0:01:22  0:00:17     0\r100    99    0     0  100    99      0      1  0:01:39  0:01:23  0:00:16     0\r100    99    0     0  100    99      0      1  0:01:39  0:01:24  0:00:15     0\r100    99    0     0  100    99      0      1  0:01:39  0:01:25  0:00:14     0\r100  2681    0  2582  100    99     30      1  0:01:39  0:01:26  0:00:13   542\n"
          ]
        }
      ],
      "source": [
        "%%bash\n",
        "curl http://localhost:11434/api/generate -d '{\n",
        "  \"model\": \"qwen2.5:14b-instruct-q3_K_M\",\n",
        "  \"prompt\": \"Why is the sky blue?\",\n",
        "  \"stream\": false\n",
        "}'\n"
      ]
    },
    {
      "cell_type": "code",
      "execution_count": null,
      "metadata": {
        "colab": {
          "base_uri": "https://localhost:8080/"
        },
        "id": "NkSfyqF4BbSx",
        "outputId": "d5137f44-e5c2-48d6-ce82-44222fdae4c9"
      },
      "outputs": [
        {
          "name": "stdout",
          "output_type": "stream",
          "text": [
            "Requirement already satisfied: pyngrok==7.2.4 in /usr/local/lib/python3.11/dist-packages (7.2.4)\n",
            "Requirement already satisfied: PyYAML>=5.1 in /usr/local/lib/python3.11/dist-packages (from pyngrok==7.2.4) (6.0.2)\n"
          ]
        }
      ],
      "source": [
        "! pip install pyngrok==7.2.4"
      ]
    },
    {
      "cell_type": "code",
      "execution_count": 58,
      "metadata": {
        "id": "PXSsnjsVCxPb"
      },
      "outputs": [],
      "source": [
        "from pyngrok import ngrok, conf"
      ]
    },
    {
      "cell_type": "code",
      "execution_count": 63,
      "metadata": {
        "colab": {
          "base_uri": "https://localhost:8080/"
        },
        "id": "cvIjRfF8CLVk",
        "outputId": "5609ff5c-b0d5-46e0-86a2-37c16bfe76b7"
      },
      "outputs": [
        {
          "name": "stdout",
          "output_type": "stream",
          "text": [
            "https://d1f2-34-87-189-125.ngrok-free.app\n"
          ]
        }
      ],
      "source": [
        "from google.colab import userdata\n",
        "ngrok_path=userdata.get('colab_ngrok')\n",
        "conf.get_default().auth_token = ngrok_path\n",
        "port=11434\n",
        "puplic_url=ngrok.connect(port).public_url\n",
        "print(puplic_url)"
      ]
    },
    {
      "cell_type": "code",
      "execution_count": 64,
      "metadata": {
        "colab": {
          "base_uri": "https://localhost:8080/"
        },
        "id": "nYB1qI23CNfI",
        "outputId": "16919bbc-922b-434d-b0f8-7492436ec063"
      },
      "outputs": [
        {
          "name": "stdout",
          "output_type": "stream",
          "text": [
            "{\"model\":\"qwen2.5:14b-instruct-q3_K_M\",\"created_at\":\"2025-04-20T16:58:42.004904288Z\",\"response\":\"The sky appears blue due to a phenomenon called Rayleigh scattering. When sunlight enters Earth's atmosphere, it collides with molecules in the air (like nitrogen and oxygen). Sunlight consists of different colors, each having its own wavelength. Blue light waves are shorter and smaller compared to other colors in the spectrum.\\n\\nWhen sunlight hits these atmospheric particles, blue light is scattered in all directions because of its short wavelength. This means that when you look up at the sky on a clear day, no matter which direction you gaze, you'll see this scattering effect. The blue color becomes visible as it reaches our eyes from every part of the sky.\\n\\nOther colors also get scattered but not as efficiently as blue light due to their longer wavelengths (like red, yellow, and green). Blue is scattered ten times more than other colors in sunlight. However, during sunrise or sunset, you see redder hues because the sun's rays travel a greater distance through Earth’s atmosphere, allowing shorter wavelength colors like blue and violet to be scattered out completely.\\n\\nIt's worth noting that while we see the sky as predominantly blue, it appears violet when considering only the scattering effect since violet light is also scattered significantly. But our eyes are more sensitive to blue than violet, and there's a lot more blue in sunlight compared to violet, so the sky looks blue to us.\\n\\nThis is why the daytime sky usually has its characteristic bright blue color, although during twilight or under certain atmospheric conditions like pollution or fine dust particles, the colors can appear differently.\",\"done\":true,\"done_reason\":\"stop\",\"context\":[151644,8948,198,2610,525,1207,16948,11,3465,553,54364,14817,13,1446,525,264,10950,17847,13,151645,198,151644,872,198,10234,374,279,12884,6303,30,151645,198,151644,77091,198,785,12884,7952,6303,4152,311,264,24844,2598,13255,62969,71816,13,3197,39020,28833,9237,594,16566,11,432,4530,3341,448,34615,304,279,3720,320,4803,46403,323,23552,568,8059,4145,17167,315,2155,7987,11,1817,3432,1181,1828,45306,13,8697,3100,16876,525,23327,323,9155,7707,311,1008,7987,304,279,19745,382,4498,39020,12983,1493,44375,18730,11,6303,3100,374,36967,304,678,17961,1576,315,1181,2805,45306,13,1096,3363,429,979,498,1401,705,518,279,12884,389,264,2797,1899,11,902,4925,892,5106,498,35396,11,498,3278,1490,419,71816,2456,13,576,6303,1894,9044,9434,438,432,24491,1039,6414,504,1449,949,315,279,12884,382,11409,7987,1083,633,36967,714,537,438,29720,438,6303,3100,4152,311,862,5021,92859,320,4803,2518,11,13753,11,323,6176,568,8697,374,36967,5779,3039,803,1091,1008,7987,304,39020,13,4354,11,2337,63819,476,42984,11,498,1490,62144,261,81657,1576,279,7015,594,44120,5821,264,7046,6010,1526,9237,748,16566,11,10693,23327,45306,7987,1075,6303,323,79736,311,387,36967,700,6587,382,2132,594,5802,26305,429,1393,582,1490,279,12884,438,46804,6303,11,432,7952,79736,979,12831,1172,279,71816,2456,2474,79736,3100,374,1083,36967,11941,13,1988,1039,6414,525,803,16216,311,6303,1091,79736,11,323,1052,594,264,2696,803,6303,304,39020,7707,311,79736,11,773,279,12884,5868,6303,311,601,382,1986,374,3170,279,61082,12884,5990,702,1181,28583,9906,6303,1894,11,7892,2337,92622,476,1212,3654,44375,4682,1075,24761,476,6915,15797,18730,11,279,7987,646,4994,21303,13],\"total_duration\":22945782882,\"load_duration\":3539991164,\"prompt_eval_count\":35,\"prompt_eval_duration\":314712008,\"eval_count\":305,\"eval_duration\":19089988286}"
          ]
        },
        {
          "name": "stderr",
          "output_type": "stream",
          "text": [
            "  % Total    % Received % Xferd  Average Speed   Time    Time     Time  Current\n",
            "                                 Dload  Upload   Total   Spent    Left  Speed\n",
            "\r  0     0    0     0    0     0      0      0 --:--:-- --:--:-- --:--:--     0\r100   100    0     0  100   100      0     82  0:00:01  0:00:01 --:--:--    82\r100   100    0     0  100   100      0     45  0:00:02  0:00:02 --:--:--    45\r100   100    0     0  100   100      0     31  0:00:03  0:00:03 --:--:--    31\r100   100    0     0  100   100      0     23  0:00:04  0:00:04 --:--:--    23\r100   100    0     0  100   100      0     19  0:00:05  0:00:05 --:--:--    19\r100   100    0     0  100   100      0     16  0:00:06  0:00:06 --:--:--     0\r100   100    0     0  100   100      0     13  0:00:07  0:00:07 --:--:--     0\r100   100    0     0  100   100      0     12  0:00:08  0:00:08 --:--:--     0\r100   100    0     0  100   100      0     10  0:00:10  0:00:09  0:00:01     0\r100   100    0     0  100   100      0      9  0:00:11  0:00:10  0:00:01     0\r100   100    0     0  100   100      0      8  0:00:12  0:00:11  0:00:01     0\r100   100    0     0  100   100      0      8  0:00:12  0:00:12 --:--:--     0\r100   100    0     0  100   100      0      7  0:00:14  0:00:13  0:00:01     0\r100   100    0     0  100   100      0      7  0:00:14  0:00:14 --:--:--     0\r100   100    0     0  100   100      0      6  0:00:16  0:00:15  0:00:01     0\r100   100    0     0  100   100      0      6  0:00:16  0:00:16 --:--:--     0\r100   100    0     0  100   100      0      5  0:00:20  0:00:17  0:00:03     0\r100   100    0     0  100   100      0      5  0:00:20  0:00:18  0:00:02     0\r100   100    0     0  100   100      0      5  0:00:20  0:00:19  0:00:01     0\r100   100    0     0  100   100      0      4  0:00:25  0:00:20  0:00:05     0\r100   100    0     0  100   100      0      4  0:00:25  0:00:21  0:00:04     0\r100   100    0     0  100   100      0      4  0:00:25  0:00:22  0:00:03     0\r100   100    0     0  100   100      0      4  0:00:25  0:00:23  0:00:02     0\r100  3656    0  3556  100   100    150      4  0:00:25  0:00:23  0:00:02   793\r100  3656    0  3556  100   100    150      4  0:00:25  0:00:23  0:00:02  1022\n"
          ]
        }
      ],
      "source": [
        "%%bash\n",
        "curl https://d1f2-34-87-189-125.ngrok-free.app/api/generate -d '{\n",
        "  \"model\": \"qwen2.5:14b-instruct-q3_K_M\",\n",
        "  \"prompt\": \"Why is the sky blue?\",\n",
        "  \"stream\": false\n",
        "\n",
        "}'"
      ]
    },
    {
      "cell_type": "code",
      "execution_count": null,
      "metadata": {
        "id": "CzyBksZHD2wi"
      },
      "outputs": [],
      "source": []
    }
  ],
  "metadata": {
    "accelerator": "GPU",
    "colab": {
      "gpuType": "T4",
      "provenance": []
    },
    "kernelspec": {
      "display_name": "Python 3",
      "name": "python3"
    },
    "language_info": {
      "name": "python"
    }
  },
  "nbformat": 4,
  "nbformat_minor": 0
}
